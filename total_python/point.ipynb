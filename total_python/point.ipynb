{
 "cells": [
  {
   "cell_type": "code",
   "execution_count": 124,
   "metadata": {},
   "outputs": [],
   "source": [
    "import pandas as pd\n",
    "import folium\n",
    "import numpy as np"
   ]
  },
  {
   "cell_type": "code",
   "execution_count": 125,
   "metadata": {},
   "outputs": [
    {
     "data": {
      "text/html": [
       "<div>\n",
       "<style scoped>\n",
       "    .dataframe tbody tr th:only-of-type {\n",
       "        vertical-align: middle;\n",
       "    }\n",
       "\n",
       "    .dataframe tbody tr th {\n",
       "        vertical-align: top;\n",
       "    }\n",
       "\n",
       "    .dataframe thead th {\n",
       "        text-align: right;\n",
       "    }\n",
       "</style>\n",
       "<table border=\"1\" class=\"dataframe\">\n",
       "  <thead>\n",
       "    <tr style=\"text-align: right;\">\n",
       "      <th></th>\n",
       "      <th>Point_ID</th>\n",
       "      <th>Latitude</th>\n",
       "      <th>Longitude</th>\n",
       "      <th>grid_number</th>\n",
       "      <th>Slow</th>\n",
       "      <th>Fast</th>\n",
       "      <th>Rapid</th>\n",
       "      <th>Total</th>\n",
       "      <th>index</th>\n",
       "    </tr>\n",
       "  </thead>\n",
       "  <tbody>\n",
       "    <tr>\n",
       "      <th>0</th>\n",
       "      <td>0</td>\n",
       "      <td>56.466217</td>\n",
       "      <td>-3.046891</td>\n",
       "      <td>89</td>\n",
       "      <td>0</td>\n",
       "      <td>0</td>\n",
       "      <td>0</td>\n",
       "      <td>0</td>\n",
       "      <td>1</td>\n",
       "    </tr>\n",
       "    <tr>\n",
       "      <th>1</th>\n",
       "      <td>1</td>\n",
       "      <td>56.472241</td>\n",
       "      <td>-2.848474</td>\n",
       "      <td>412</td>\n",
       "      <td>0</td>\n",
       "      <td>0</td>\n",
       "      <td>0</td>\n",
       "      <td>0</td>\n",
       "      <td>2</td>\n",
       "    </tr>\n",
       "    <tr>\n",
       "      <th>2</th>\n",
       "      <td>2</td>\n",
       "      <td>56.473208</td>\n",
       "      <td>-2.895034</td>\n",
       "      <td>328</td>\n",
       "      <td>0</td>\n",
       "      <td>0</td>\n",
       "      <td>0</td>\n",
       "      <td>0</td>\n",
       "      <td>3</td>\n",
       "    </tr>\n",
       "    <tr>\n",
       "      <th>3</th>\n",
       "      <td>3</td>\n",
       "      <td>56.463504</td>\n",
       "      <td>-2.963304</td>\n",
       "      <td>228</td>\n",
       "      <td>0</td>\n",
       "      <td>0</td>\n",
       "      <td>0</td>\n",
       "      <td>0</td>\n",
       "      <td>4</td>\n",
       "    </tr>\n",
       "    <tr>\n",
       "      <th>4</th>\n",
       "      <td>4</td>\n",
       "      <td>56.460974</td>\n",
       "      <td>-2.977650</td>\n",
       "      <td>200</td>\n",
       "      <td>0</td>\n",
       "      <td>0</td>\n",
       "      <td>0</td>\n",
       "      <td>0</td>\n",
       "      <td>5</td>\n",
       "    </tr>\n",
       "  </tbody>\n",
       "</table>\n",
       "</div>"
      ],
      "text/plain": [
       "  Point_ID   Latitude  Longitude  grid_number  Slow  Fast  Rapid  Total  index\n",
       "0        0  56.466217  -3.046891           89     0     0      0      0      1\n",
       "1        1  56.472241  -2.848474          412     0     0      0      0      2\n",
       "2        2  56.473208  -2.895034          328     0     0      0      0      3\n",
       "3        3  56.463504  -2.963304          228     0     0      0      0      4\n",
       "4        4  56.460974  -2.977650          200     0     0      0      0      5"
      ]
     },
     "execution_count": 125,
     "metadata": {},
     "output_type": "execute_result"
    }
   ],
   "source": [
    "total_points = pd.read_csv('/Users/air/Desktop/Total_point.csv')\n",
    "total_points.head()"
   ]
  },
  {
   "cell_type": "code",
   "execution_count": 7,
   "metadata": {},
   "outputs": [],
   "source": [
    "min_cost_data0 = pd.read_excel('/Users/air/Desktop/result/min cost/year 0.xlsx')\n",
    "point_index0 = total_points[min_cost_data0['point_total']!=0][['Latitude', 'Longitude']]\n",
    "num_of_point0 = min_cost_data0[min_cost_data0['point_total']!=0]['point_total']\n",
    "final_data0 = pd.concat([point_index0,num_of_point0],axis=1)"
   ]
  },
  {
   "cell_type": "code",
   "execution_count": 8,
   "metadata": {},
   "outputs": [],
   "source": [
    "#Year0: current points\n",
    "tooltip = \"Year_0!\"\n",
    "m = folium.Map(location=[final_data0['Latitude'].iloc[0],final_data0['Longitude'].iloc[0]],tooltip=tooltip)\n",
    "\n",
    "for i in range(0,final_data0.shape[0]):\n",
    "    if final_data0.iloc[i,2] >=1 and final_data0.iloc[i,2]<=3:\n",
    "        #fill_color=\"#F5F5F5\"\n",
    "        radius = 10\n",
    "        color=\"#4682B4\"\n",
    "    if final_data0.iloc[i,2] >=4 and final_data0.iloc[i,2] <=7:\n",
    "        #fill_color=\"#808069\"\n",
    "        radius = 20\n",
    "        color=\"#0000FF\"\n",
    "    if final_data0.iloc[i,2]>=8 and final_data0.iloc[i,2]<=10:\n",
    "        #fill_color=\"#000000\"\n",
    "        radius = 30\n",
    "        color=\"#191970\"\n",
    "    \n",
    "    coordinates0= np.array(final_data0.iloc[i,:2])\n",
    "\n",
    "    folium.Marker(\n",
    "        location=[coordinates0[0], coordinates0[1]],\n",
    "        tooltip=tooltip,icon=folium.Icon(color='gray')).add_to(m)\n",
    "\n",
    "    folium.CircleMarker(\n",
    "        location=[coordinates0[0],coordinates0[1]],\n",
    "        radius=radius,\n",
    "        popup=f\"Year_0\",\n",
    "        color=color,\n",
    "        fill=False,\n",
    "        fill_color=\"#F5F5F5\",\n",
    "    ).add_to(m)"
   ]
  },
  {
   "cell_type": "code",
   "execution_count": 9,
   "metadata": {},
   "outputs": [],
   "source": [
    "m.save(\"m_cost0.html\")"
   ]
  },
  {
   "cell_type": "code",
   "execution_count": 10,
   "metadata": {},
   "outputs": [],
   "source": [
    "min_cost_data1 = pd.read_excel('/Users/air/Desktop/result/min cost/year 1.xlsx')\n",
    "point_index1 = total_points[min_cost_data1['point_total']!=0][['Latitude', 'Longitude']]\n",
    "\n",
    "num_of_point1 = min_cost_data1[min_cost_data1['point_total']!=0]['point_total']\n",
    "\n",
    "final_data1 = pd.concat([point_index1,num_of_point1],axis=1)\n",
    "\n",
    "#find the new points coordinates\n",
    "new_coordinates1 = []\n",
    "for i in np.array(final_data1.iloc[:,:2]):\n",
    "    if i not in np.array(final_data0.iloc[:,:2]):\n",
    "        new_coordinates1.append(i)"
   ]
  },
  {
   "cell_type": "code",
   "execution_count": 11,
   "metadata": {},
   "outputs": [],
   "source": [
    "#draw the new points in year 1 in red \n",
    "for j in range(len(new_coordinates1)): \n",
    "    folium.Marker(\n",
    "            location=[new_coordinates1[j][0], new_coordinates1[j][1]],\n",
    "            tooltip=tooltip,icon=folium.Icon(color='red')).add_to(m)"
   ]
  },
  {
   "cell_type": "code",
   "execution_count": 12,
   "metadata": {
    "scrolled": true
   },
   "outputs": [],
   "source": [
    "#draw the changes from year 0 to year 1\n",
    "for i in range(0,final_data1.shape[0]):\n",
    "    if final_data1.iloc[i,2] >=1 and final_data1.iloc[i,2]<=3:\n",
    "        #fill_color=\"#F5F5F5\"\n",
    "        radius = 10\n",
    "        color=\"#4682B4\"\n",
    "    if final_data1.iloc[i,2] >=4 and final_data1.iloc[i,2] <=7:\n",
    "        #fill_color=\"#808069\"\n",
    "        radius = 20\n",
    "        color=\"#0000FF\"\n",
    "    if final_data1.iloc[i,2]>=8 and final_data1.iloc[i,2]<=10:\n",
    "        #fill_color=\"#000000\"\n",
    "        radius = 30\n",
    "        color=\"#191970\"\n",
    "        \n",
    "    coordinates1= np.array(final_data1.iloc[i,:2])\n",
    "    \n",
    "    folium.CircleMarker(\n",
    "        location=[coordinates1[0],coordinates1[1]],\n",
    "        radius=radius,\n",
    "        popup=f\"Year_1\",\n",
    "        color=color,\n",
    "        fill=False,\n",
    "        fill_color=\"#F5F5F5\",\n",
    "    ).add_to(m)"
   ]
  },
  {
   "cell_type": "code",
   "execution_count": 13,
   "metadata": {},
   "outputs": [],
   "source": [
    "m.save(\"m_cost1.html\")"
   ]
  },
  {
   "cell_type": "code",
   "execution_count": 14,
   "metadata": {},
   "outputs": [],
   "source": [
    "#Year2\n",
    "min_cost_data2 = pd.read_excel('/Users/air/Desktop/result/min cost/year 2.xlsx')\n",
    "point_index2 = total_points[min_cost_data2['point_total']!=0][['Latitude', 'Longitude']]\n",
    "\n",
    "num_of_point2 = min_cost_data2[min_cost_data2['point_total']!=0]['point_total']\n",
    "\n",
    "final_data2 = pd.concat([point_index2,num_of_point2],axis=1)\n",
    "\n",
    "#find the new points coordinates\n",
    "new_coordinates2 = []\n",
    "for i in np.array(final_data2.iloc[:,:2]):\n",
    "    if i not in np.array(final_data1.iloc[:,:2]):\n",
    "        new_coordinates2.append(i)"
   ]
  },
  {
   "cell_type": "code",
   "execution_count": 15,
   "metadata": {},
   "outputs": [],
   "source": [
    "#draw the new points in year 2 in red \n",
    "for j in range(len(new_coordinates2)): \n",
    "    folium.Marker(\n",
    "            location=[new_coordinates2[j][0], new_coordinates2[j][1]],\n",
    "            tooltip=tooltip,icon=folium.Icon(color='green')).add_to(m)"
   ]
  },
  {
   "cell_type": "code",
   "execution_count": 16,
   "metadata": {},
   "outputs": [],
   "source": [
    "#draw the changes from year 1 to year 2\n",
    "for i in range(0,final_data2.shape[0]):\n",
    "    if final_data2.iloc[i,2] >=1 and final_data2.iloc[i,2]<=3:\n",
    "        #fill_color=\"#F5F5F5\"\n",
    "        radius = 10\n",
    "        color=\"#4682B4\"\n",
    "    if final_data2.iloc[i,2] >=4 and final_data2.iloc[i,2] <=7:\n",
    "        #fill_color=\"#808069\"\n",
    "        radius = 20\n",
    "        color=\"#0000FF\"\n",
    "    if final_data2.iloc[i,2]>=8 and final_data2.iloc[i,2]<=10:\n",
    "        #fill_color=\"#000000\"\n",
    "        radius = 30\n",
    "        color=\"#191970\"\n",
    "        \n",
    "    coordinates2= np.array(final_data2.iloc[i,:2])\n",
    "    \n",
    "    folium.CircleMarker(\n",
    "        location=[coordinates2[0],coordinates2[1]],\n",
    "        radius=radius,\n",
    "        popup=f\"Year_2\",\n",
    "        color=color,\n",
    "        fill=False,\n",
    "        fill_color=\"#F5F5F5\",\n",
    "    ).add_to(m)"
   ]
  },
  {
   "cell_type": "code",
   "execution_count": 17,
   "metadata": {},
   "outputs": [],
   "source": [
    "m.save(\"m_cost2.html\")"
   ]
  },
  {
   "cell_type": "code",
   "execution_count": 18,
   "metadata": {},
   "outputs": [],
   "source": [
    "#Year3\n",
    "min_cost_data3 = pd.read_excel('/Users/air/Desktop/result/min cost/year 3.xlsx')\n",
    "point_index3 = total_points[min_cost_data3['point_total']!=0][['Latitude', 'Longitude']]\n",
    "num_of_point3 = min_cost_data3[min_cost_data3['point_total']!=0]['point_total']\n",
    "final_data3 = pd.concat([point_index3,num_of_point3],axis=1)\n",
    "\n",
    "#find the new points coordinates\n",
    "new_coordinates3 = []\n",
    "for i in np.array(final_data3.iloc[:,:2]):\n",
    "    if i not in np.array(final_data2.iloc[:,:2]):\n",
    "        new_coordinates3.append(i)"
   ]
  },
  {
   "cell_type": "code",
   "execution_count": 19,
   "metadata": {},
   "outputs": [
    {
     "data": {
      "text/plain": [
       "[array([56.48689019, -2.95957476]),\n",
       " array([56.47341014, -2.93007684]),\n",
       " array([56.47446815, -2.89367902]),\n",
       " array([56.45363655, -3.01029281])]"
      ]
     },
     "execution_count": 19,
     "metadata": {},
     "output_type": "execute_result"
    }
   ],
   "source": [
    "new_coordinates3"
   ]
  },
  {
   "cell_type": "code",
   "execution_count": 20,
   "metadata": {},
   "outputs": [],
   "source": [
    "#draw the new points in year 3 in  orange\n",
    "for j in range(len(new_coordinates3)): \n",
    "    folium.Marker(\n",
    "            location=[new_coordinates3[j][0], new_coordinates3[j][1]],\n",
    "            tooltip=tooltip,icon=folium.Icon(color='orange')).add_to(m)"
   ]
  },
  {
   "cell_type": "code",
   "execution_count": 21,
   "metadata": {},
   "outputs": [],
   "source": [
    "#draw the changes from year 2 to year 3\n",
    "for i in range(0,final_data3.shape[0]):\n",
    "    if final_data3.iloc[i,2] >=1 and final_data3.iloc[i,2]<=3:\n",
    "        #fill_color=\"#F5F5F5\"\n",
    "        radius = 10\n",
    "        color=\"#4682B4\"\n",
    "    if final_data3.iloc[i,2] >=4 and final_data3.iloc[i,2] <=7:\n",
    "        #fill_color=\"#808069\"\n",
    "        radius = 20\n",
    "        color=\"#0000FF\"\n",
    "    if final_data3.iloc[i,2]>=8 and final_data3.iloc[i,2]<=10:\n",
    "        #fill_color=\"#000000\"\n",
    "        radius = 30\n",
    "        color=\"#191970\"\n",
    "        \n",
    "    coordinates3= np.array(final_data3.iloc[i,:2])\n",
    "    \n",
    "    folium.CircleMarker(\n",
    "        location=[coordinates3[0],coordinates3[1]],\n",
    "        radius=radius,\n",
    "        popup=f\"Year_3\",\n",
    "        color=color,\n",
    "        fill=False,\n",
    "        fill_color=\"#F5F5F5\",\n",
    "    ).add_to(m)"
   ]
  },
  {
   "cell_type": "code",
   "execution_count": 22,
   "metadata": {},
   "outputs": [],
   "source": [
    "m.save(\"m_cost3.html\")"
   ]
  },
  {
   "cell_type": "code",
   "execution_count": 23,
   "metadata": {},
   "outputs": [],
   "source": [
    "#Year4\n",
    "min_cost_data4 = pd.read_excel('/Users/air/Desktop/result/min cost/year 4.xlsx')\n",
    "point_index4 = total_points[min_cost_data4['point_total']!=0][['Latitude', 'Longitude']]\n",
    "\n",
    "num_of_point4 = min_cost_data4[min_cost_data4['point_total']!=0]['point_total']\n",
    "\n",
    "final_data4 = pd.concat([point_index4,num_of_point4],axis=1)\n",
    "\n",
    "#find the new points coordinates\n",
    "new_coordinates4 = []\n",
    "for i in np.array(final_data4.iloc[:,:2]):\n",
    "    if i not in np.array(final_data3.iloc[:,:2]):\n",
    "        new_coordinates4.append(i)"
   ]
  },
  {
   "cell_type": "code",
   "execution_count": 260,
   "metadata": {},
   "outputs": [],
   "source": [
    "#draw the new points in year 4 in black\n",
    "for j in range(len(new_coordinates4)): \n",
    "    folium.Marker(\n",
    "            location=[new_coordinates4[j][0], new_coordinates4[j][1]],\n",
    "            tooltip=tooltip,icon=folium.Icon(color='black')).add_to(m)"
   ]
  },
  {
   "cell_type": "code",
   "execution_count": 25,
   "metadata": {},
   "outputs": [],
   "source": [
    "#draw the changes from year 3 to year 4\n",
    "for i in range(0,final_data4.shape[0]):\n",
    "    if final_data4.iloc[i,2] >=1 and final_data4.iloc[i,2]<=3:\n",
    "        #fill_color=\"#F5F5F5\"\n",
    "        radius = 10\n",
    "        color=\"#4682B4\"\n",
    "    if final_data4.iloc[i,2] >=4 and final_data4.iloc[i,2] <=7:\n",
    "        #fill_color=\"#808069\"\n",
    "        radius = 20\n",
    "        color=\"#0000FF\"\n",
    "    if final_data4.iloc[i,2]>=8 and final_data4.iloc[i,2]<=10:\n",
    "       #fill_color=\"#000000\"\n",
    "        radius = 30\n",
    "        color=\"#191970\"\n",
    "        \n",
    "    coordinates4= np.array(final_data4.iloc[i,:2])\n",
    "    \n",
    "    folium.CircleMarker(\n",
    "        location=[coordinates4[0],coordinates4[1]],\n",
    "        radius=radius,\n",
    "        popup=f\"Year_4\",\n",
    "        color=color,\n",
    "        fill=False,\n",
    "        fill_color=\"#F5F5F5\",\n",
    "    ).add_to(m)"
   ]
  },
  {
   "cell_type": "code",
   "execution_count": 26,
   "metadata": {},
   "outputs": [],
   "source": [
    "m.save(\"m_cost4.html\")"
   ]
  },
  {
   "cell_type": "code",
   "execution_count": 126,
   "metadata": {},
   "outputs": [],
   "source": [
    "min_interest_data0 = pd.read_excel('/Users/air/Desktop/result/min interest/year 0.xlsx')\n",
    "min_interest_data1 = pd.read_excel('/Users/air/Desktop/result/min interest/year 1.xlsx')\n",
    "min_interest_data2 = pd.read_excel('/Users/air/Desktop/result/min interest/year 2.xlsx')\n",
    "min_interest_data3 = pd.read_excel('/Users/air/Desktop/result/min interest/year 3.xlsx')\n",
    "min_interest_data4 = pd.read_excel('/Users/air/Desktop/result/min interest/year 4.xlsx')"
   ]
  },
  {
   "cell_type": "code",
   "execution_count": 127,
   "metadata": {},
   "outputs": [],
   "source": [
    "min_cost_data0 = pd.read_excel('/Users/air/Desktop/result/min cost/year 0.xlsx')\n",
    "min_cost_data1 = pd.read_excel('/Users/air/Desktop/result/min cost/year 1.xlsx')\n",
    "min_cost_data2 = pd.read_excel('/Users/air/Desktop/result/min cost/year 2.xlsx')\n",
    "min_cost_data3 = pd.read_excel('/Users/air/Desktop/result/min cost/year 3.xlsx')\n",
    "min_cost_data4 = pd.read_excel('/Users/air/Desktop/result/min cost/year 4.xlsx')"
   ]
  },
  {
   "cell_type": "code",
   "execution_count": 128,
   "metadata": {},
   "outputs": [],
   "source": [
    "def get_data(data):\n",
    "    point_index = total_points[data['point_total']!=0][['Latitude', 'Longitude']]\n",
    "    num_of_point = data[data['point_total']!=0]['point_total']\n",
    "    final_data = pd.concat([point_index,num_of_point],axis=1)\n",
    "    return final_data "
   ]
  },
  {
   "cell_type": "code",
   "execution_count": 129,
   "metadata": {},
   "outputs": [],
   "source": [
    "interest0 = get_data(min_interest_data0)\n",
    "interest1 = get_data(min_interest_data1)\n",
    "interest2 = get_data(min_interest_data2)\n",
    "interest3 = get_data(min_interest_data3)\n",
    "interest4 = get_data(min_interest_data4)"
   ]
  },
  {
   "cell_type": "code",
   "execution_count": 130,
   "metadata": {},
   "outputs": [],
   "source": [
    "cost0 = get_data(min_cost_data0)\n",
    "cost1 = get_data(min_cost_data1)\n",
    "cost2 = get_data(min_cost_data2)\n",
    "cost3 = get_data(min_cost_data3)\n",
    "cost4 = get_data(min_cost_data4)"
   ]
  },
  {
   "cell_type": "code",
   "execution_count": 131,
   "metadata": {},
   "outputs": [],
   "source": [
    "def start_plot(data,year):\n",
    "    tooltip = f\"Year_{year}!\"\n",
    "    m = folium.Map(location=[data['Latitude'].iloc[0],data['Longitude'].iloc[0]],tooltip=tooltip)\n",
    "\n",
    "    for i in range(0,data.shape[0]):\n",
    "        if data.iloc[i,2] >=1 and data.iloc[i,2]<=3:\n",
    "            radius = 10\n",
    "            color=\"#4682B4\"\n",
    "        if data.iloc[i,2] >=4 and data.iloc[i,2] <=7:\n",
    "            radius = 20\n",
    "            color=\"#0000FF\"\n",
    "        if data.iloc[i,2]>=8 and data.iloc[i,2]<=10:\n",
    "            radius = 30\n",
    "            color=\"#191970\"\n",
    "\n",
    "        coordinates= np.array(data.iloc[i,:2])\n",
    "\n",
    "        folium.Marker(\n",
    "            location=[coordinates[0], coordinates[1]],\n",
    "            tooltip=tooltip,icon=folium.Icon(color='gray')).add_to(m)\n",
    "\n",
    "        folium.CircleMarker(\n",
    "            location=[coordinates[0],coordinates[1]],\n",
    "            radius=radius,\n",
    "            color=color,\n",
    "            fill=False,\n",
    "            fill_color=\"#F5F5F5\",\n",
    "        ).add_to(m)\n",
    "    return m"
   ]
  },
  {
   "cell_type": "code",
   "execution_count": 132,
   "metadata": {
    "scrolled": true
   },
   "outputs": [],
   "source": [
    "m = start_plot(interest0 ,0)\n",
    "m_cost = start_plot(cost0 ,0)"
   ]
  },
  {
   "cell_type": "code",
   "execution_count": 133,
   "metadata": {},
   "outputs": [],
   "source": [
    "m.save(\"current.html\")"
   ]
  },
  {
   "cell_type": "code",
   "execution_count": 134,
   "metadata": {},
   "outputs": [],
   "source": [
    "#find the new points coordinates\n",
    "def draw_new_points(data1,data0,year,m):\n",
    "    new_coordinates = []\n",
    "    for i in np.array(data1.iloc[:,:2]):\n",
    "        if i not in np.array(data0.iloc[:,:2]):\n",
    "            new_coordinates.append(i)\n",
    "            \n",
    "    color = ['red','green','orange','black']\n",
    "    tooltip = f\"Year_{year}!\"\n",
    "    for j in range(len(new_coordinates)): \n",
    "        folium.Marker(\n",
    "                location=[new_coordinates[j][0], new_coordinates[j][1]],\n",
    "                tooltip=tooltip,icon=folium.Icon(color=color[year-1])).add_to(m)\n",
    "    return m   "
   ]
  },
  {
   "cell_type": "code",
   "execution_count": 135,
   "metadata": {},
   "outputs": [],
   "source": [
    "year1_point_interest = draw_new_points(interest1,interest0,1,m)\n",
    "year1_point_cost = draw_new_points(cost1,cost0,1,m_cost)"
   ]
  },
  {
   "cell_type": "code",
   "execution_count": 136,
   "metadata": {},
   "outputs": [],
   "source": [
    "def draw_station(data,m):\n",
    "    for i in range(0,data.shape[0]):\n",
    "        if data.iloc[i,2] >=1 and data.iloc[i,2]<=3:\n",
    "            #fill_color=\"#F5F5F5\"\n",
    "            radius = 10\n",
    "            color=\"#4682B4\"\n",
    "        if data.iloc[i,2] >=4 and data.iloc[i,2] <=7:\n",
    "            #fill_color=\"#808069\"\n",
    "            radius = 20\n",
    "            color=\"#0000FF\"\n",
    "        if data.iloc[i,2]>=8 and data.iloc[i,2]<=10:\n",
    "           #fill_color=\"#000000\"\n",
    "            radius = 30\n",
    "            color=\"#191970\"\n",
    "\n",
    "        coordinates11= np.array(data.iloc[i,:2])\n",
    "\n",
    "        folium.CircleMarker(\n",
    "            location=[coordinates11[0],coordinates11[1]],\n",
    "            radius=radius,\n",
    "            color=color,\n",
    "            fill=False,\n",
    "            fill_color=\"#F5F5F5\",\n",
    "        ).add_to(m)\n",
    "    return m"
   ]
  },
  {
   "cell_type": "code",
   "execution_count": 137,
   "metadata": {},
   "outputs": [],
   "source": [
    "station1 =draw_station(interest1,year1_point_interest)\n",
    "station_cost1 = draw_station(cost1,year1_point_cost)"
   ]
  },
  {
   "cell_type": "code",
   "execution_count": 139,
   "metadata": {},
   "outputs": [],
   "source": [
    "station1.save(\"station1_interest.html\")\n",
    "station_cost1.save(\"station1_cost.html\")"
   ]
  },
  {
   "cell_type": "code",
   "execution_count": 140,
   "metadata": {},
   "outputs": [],
   "source": [
    "year2_point_interest = draw_new_points(interest2,interest1,2,station1)\n",
    "station2 =draw_station(interest2,year2_point_interest)\n",
    "\n",
    "year2_point_cost = draw_new_points(cost2,cost1,2,station_cost1)\n",
    "station_cost2 = draw_station(cost2,year2_point_cost)\n"
   ]
  },
  {
   "cell_type": "code",
   "execution_count": 141,
   "metadata": {},
   "outputs": [],
   "source": [
    "station2.save(\"station2_interest.html\")\n",
    "station_cost2.save(\"station2_cost.html\")"
   ]
  },
  {
   "cell_type": "code",
   "execution_count": 142,
   "metadata": {},
   "outputs": [],
   "source": [
    "year3_point_interest = draw_new_points(interest3,interest2,3,station2)\n",
    "station3 =draw_station(interest3,year3_point_interest)\n",
    "\n",
    "\n",
    "year3_point_cost = draw_new_points(cost3,cost2,3,station_cost2)\n",
    "station_cost3 = draw_station(cost3,year3_point_cost)"
   ]
  },
  {
   "cell_type": "code",
   "execution_count": 143,
   "metadata": {},
   "outputs": [],
   "source": [
    "station3.save(\"station3_interest.html\")\n",
    "station_cost3.save(\"station3_cost.html\")"
   ]
  },
  {
   "cell_type": "code",
   "execution_count": 144,
   "metadata": {},
   "outputs": [],
   "source": [
    "year4_point_interest = draw_new_points(interest4,interest3,4,station3)\n",
    "station4 =draw_station(interest4,year4_point_interest)\n",
    "\n",
    "\n",
    "year4_point_cost = draw_new_points(cost4,cost3,4,station_cost3)\n",
    "station_cost4 = draw_station(cost4,year4_point_cost)\n"
   ]
  },
  {
   "cell_type": "code",
   "execution_count": 145,
   "metadata": {},
   "outputs": [],
   "source": [
    "station4.save(\"station1_interest.html\")\n",
    "station_cost4.save(\"station1_cost.html\")"
   ]
  }
 ],
 "metadata": {
  "kernelspec": {
   "display_name": "Python 3",
   "language": "python",
   "name": "python3"
  },
  "language_info": {
   "codemirror_mode": {
    "name": "ipython",
    "version": 3
   },
   "file_extension": ".py",
   "mimetype": "text/x-python",
   "name": "python",
   "nbconvert_exporter": "python",
   "pygments_lexer": "ipython3",
   "version": "3.8.5"
  }
 },
 "nbformat": 4,
 "nbformat_minor": 5
}
